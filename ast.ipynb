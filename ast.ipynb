{
  "nbformat": 4,
  "nbformat_minor": 0,
  "metadata": {
    "colab": {
      "provenance": [],
      "gpuType": "T4"
    },
    "kernelspec": {
      "name": "python3",
      "display_name": "Python 3"
    },
    "language_info": {
      "name": "python"
    },
    "accelerator": "GPU"
  },
  "cells": [
    {
      "cell_type": "code",
      "execution_count": 1,
      "metadata": {
        "colab": {
          "base_uri": "https://localhost:8080/"
        },
        "id": "K5UiodshUt7P",
        "outputId": "1187c48e-92da-4ecd-c9ff-b9b1eb545463"
      },
      "outputs": [
        {
          "output_type": "stream",
          "name": "stdout",
          "text": [
            "Cloning into 'ast'...\n",
            "remote: Enumerating objects: 649, done.\u001b[K\n",
            "remote: Counting objects: 100% (146/146), done.\u001b[K\n",
            "remote: Compressing objects: 100% (71/71), done.\u001b[K\n",
            "remote: Total 649 (delta 85), reused 129 (delta 75), pack-reused 503\u001b[K\n",
            "Receiving objects: 100% (649/649), 2.42 MiB | 19.98 MiB/s, done.\n",
            "Resolving deltas: 100% (345/345), done.\n",
            "Cloning into 'in_the_jungle'...\n",
            "remote: Enumerating objects: 941, done.\u001b[K\n",
            "remote: Counting objects: 100% (98/98), done.\u001b[K\n",
            "remote: Compressing objects: 100% (63/63), done.\u001b[K\n",
            "remote: Total 941 (delta 30), reused 84 (delta 19), pack-reused 843\u001b[K\n",
            "Receiving objects: 100% (941/941), 103.85 MiB | 20.34 MiB/s, done.\n",
            "Resolving deltas: 100% (40/40), done.\n",
            "Updating files: 100% (891/891), done.\n",
            "Reading package lists... Done\n",
            "Building dependency tree... Done\n",
            "Reading state information... Done\n",
            "The following additional packages will be installed:\n",
            "  python3-pip-whl python3-setuptools-whl\n",
            "The following NEW packages will be installed:\n",
            "  python3-pip-whl python3-setuptools-whl python3.10-venv\n",
            "0 upgraded, 3 newly installed, 0 to remove and 24 not upgraded.\n",
            "Need to get 2,473 kB of archives.\n",
            "After this operation, 2,884 kB of additional disk space will be used.\n",
            "Get:1 http://archive.ubuntu.com/ubuntu jammy-updates/universe amd64 python3-pip-whl all 22.0.2+dfsg-1ubuntu0.4 [1,680 kB]\n",
            "Get:2 http://archive.ubuntu.com/ubuntu jammy-updates/universe amd64 python3-setuptools-whl all 59.6.0-1.2ubuntu0.22.04.1 [788 kB]\n",
            "Get:3 http://archive.ubuntu.com/ubuntu jammy-updates/universe amd64 python3.10-venv amd64 3.10.12-1~22.04.3 [5,716 B]\n",
            "Fetched 2,473 kB in 0s (12.1 MB/s)\n",
            "Selecting previously unselected package python3-pip-whl.\n",
            "(Reading database ... 121666 files and directories currently installed.)\n",
            "Preparing to unpack .../python3-pip-whl_22.0.2+dfsg-1ubuntu0.4_all.deb ...\n",
            "Unpacking python3-pip-whl (22.0.2+dfsg-1ubuntu0.4) ...\n",
            "Selecting previously unselected package python3-setuptools-whl.\n",
            "Preparing to unpack .../python3-setuptools-whl_59.6.0-1.2ubuntu0.22.04.1_all.deb ...\n",
            "Unpacking python3-setuptools-whl (59.6.0-1.2ubuntu0.22.04.1) ...\n",
            "Selecting previously unselected package python3.10-venv.\n",
            "Preparing to unpack .../python3.10-venv_3.10.12-1~22.04.3_amd64.deb ...\n",
            "Unpacking python3.10-venv (3.10.12-1~22.04.3) ...\n",
            "Setting up python3-setuptools-whl (59.6.0-1.2ubuntu0.22.04.1) ...\n",
            "Setting up python3-pip-whl (22.0.2+dfsg-1ubuntu0.4) ...\n",
            "Setting up python3.10-venv (3.10.12-1~22.04.3) ...\n"
          ]
        }
      ],
      "source": [
        "!git clone https://github.com/YuanGongND/ast.git\n",
        "!git clone https://github.com/NimayRKumar/in_the_jungle.git\n",
        "!apt install python3.10-venv\n",
        "!python3 -m venv venvast\n",
        "!source venvast/bin/activate"
      ]
    },
    {
      "cell_type": "code",
      "source": [
        "%cd ast"
      ],
      "metadata": {
        "colab": {
          "base_uri": "https://localhost:8080/"
        },
        "id": "dO79VptnX3Oo",
        "outputId": "dba69bbc-d10f-49af-f5b0-35e06eb32d66"
      },
      "execution_count": 2,
      "outputs": [
        {
          "output_type": "stream",
          "name": "stdout",
          "text": [
            "/content/ast\n"
          ]
        }
      ]
    },
    {
      "cell_type": "markdown",
      "source": [
        "# The requirements.txt from the AST github have deprecated versions, use the following instead:\n",
        "llvmlite\n",
        "\n",
        "matplotlib==3.4.2\n",
        "\n",
        "numba\n",
        "\n",
        "numpy\n",
        "\n",
        "scikit-learn\n",
        "\n",
        "scipy\n",
        "\n",
        "timm==0.4.5\n",
        "\n",
        "torch\n",
        "\n",
        "torchaudio\n",
        "\n",
        "torchvision\n",
        "\n",
        "wget\n",
        "\n",
        "zipp"
      ],
      "metadata": {
        "id": "C4w386qVUoa_"
      }
    },
    {
      "cell_type": "code",
      "source": [
        "!pip install -r requirements.txt"
      ],
      "metadata": {
        "colab": {
          "base_uri": "https://localhost:8080/",
          "height": 1000
        },
        "id": "LWocH5CiVpWP",
        "outputId": "8c457501-8ce6-4c6d-8c4a-14eeaa74135c"
      },
      "execution_count": 3,
      "outputs": [
        {
          "output_type": "stream",
          "name": "stdout",
          "text": [
            "Requirement already satisfied: llvmlite in /usr/local/lib/python3.10/dist-packages (from -r requirements.txt (line 1)) (0.41.1)\n",
            "Collecting matplotlib==3.4.2 (from -r requirements.txt (line 3))\n",
            "  Downloading matplotlib-3.4.2.tar.gz (37.3 MB)\n",
            "\u001b[2K     \u001b[90m━━━━━━━━━━━━━━━━━━━━━━━━━━━━━━━━━━━━━━━━\u001b[0m \u001b[32m37.3/37.3 MB\u001b[0m \u001b[31m34.0 MB/s\u001b[0m eta \u001b[36m0:00:00\u001b[0m\n",
            "\u001b[?25h  Preparing metadata (setup.py) ... \u001b[?25l\u001b[?25hdone\n",
            "Requirement already satisfied: numba in /usr/local/lib/python3.10/dist-packages (from -r requirements.txt (line 5)) (0.58.1)\n",
            "Requirement already satisfied: numpy in /usr/local/lib/python3.10/dist-packages (from -r requirements.txt (line 7)) (1.23.5)\n",
            "Requirement already satisfied: scikit-learn in /usr/local/lib/python3.10/dist-packages (from -r requirements.txt (line 9)) (1.2.2)\n",
            "Requirement already satisfied: scipy in /usr/local/lib/python3.10/dist-packages (from -r requirements.txt (line 11)) (1.11.4)\n",
            "Collecting timm==0.4.5 (from -r requirements.txt (line 13))\n",
            "  Downloading timm-0.4.5-py3-none-any.whl (287 kB)\n",
            "\u001b[2K     \u001b[90m━━━━━━━━━━━━━━━━━━━━━━━━━━━━━━━━━━━━━━━━\u001b[0m \u001b[32m287.4/287.4 kB\u001b[0m \u001b[31m30.8 MB/s\u001b[0m eta \u001b[36m0:00:00\u001b[0m\n",
            "\u001b[?25hRequirement already satisfied: torch in /usr/local/lib/python3.10/dist-packages (from -r requirements.txt (line 15)) (2.1.0+cu121)\n",
            "Requirement already satisfied: torchaudio in /usr/local/lib/python3.10/dist-packages (from -r requirements.txt (line 17)) (2.1.0+cu121)\n",
            "Requirement already satisfied: torchvision in /usr/local/lib/python3.10/dist-packages (from -r requirements.txt (line 19)) (0.16.0+cu121)\n",
            "Collecting wget (from -r requirements.txt (line 21))\n",
            "  Downloading wget-3.2.zip (10 kB)\n",
            "  Preparing metadata (setup.py) ... \u001b[?25l\u001b[?25hdone\n",
            "Requirement already satisfied: zipp in /usr/local/lib/python3.10/dist-packages (from -r requirements.txt (line 23)) (3.17.0)\n",
            "Requirement already satisfied: cycler>=0.10 in /usr/local/lib/python3.10/dist-packages (from matplotlib==3.4.2->-r requirements.txt (line 3)) (0.12.1)\n",
            "Requirement already satisfied: kiwisolver>=1.0.1 in /usr/local/lib/python3.10/dist-packages (from matplotlib==3.4.2->-r requirements.txt (line 3)) (1.4.5)\n",
            "Requirement already satisfied: pillow>=6.2.0 in /usr/local/lib/python3.10/dist-packages (from matplotlib==3.4.2->-r requirements.txt (line 3)) (9.4.0)\n",
            "Requirement already satisfied: pyparsing>=2.2.1 in /usr/local/lib/python3.10/dist-packages (from matplotlib==3.4.2->-r requirements.txt (line 3)) (3.1.1)\n",
            "Requirement already satisfied: python-dateutil>=2.7 in /usr/local/lib/python3.10/dist-packages (from matplotlib==3.4.2->-r requirements.txt (line 3)) (2.8.2)\n",
            "Requirement already satisfied: joblib>=1.1.1 in /usr/local/lib/python3.10/dist-packages (from scikit-learn->-r requirements.txt (line 9)) (1.3.2)\n",
            "Requirement already satisfied: threadpoolctl>=2.0.0 in /usr/local/lib/python3.10/dist-packages (from scikit-learn->-r requirements.txt (line 9)) (3.2.0)\n",
            "Requirement already satisfied: filelock in /usr/local/lib/python3.10/dist-packages (from torch->-r requirements.txt (line 15)) (3.13.1)\n",
            "Requirement already satisfied: typing-extensions in /usr/local/lib/python3.10/dist-packages (from torch->-r requirements.txt (line 15)) (4.5.0)\n",
            "Requirement already satisfied: sympy in /usr/local/lib/python3.10/dist-packages (from torch->-r requirements.txt (line 15)) (1.12)\n",
            "Requirement already satisfied: networkx in /usr/local/lib/python3.10/dist-packages (from torch->-r requirements.txt (line 15)) (3.2.1)\n",
            "Requirement already satisfied: jinja2 in /usr/local/lib/python3.10/dist-packages (from torch->-r requirements.txt (line 15)) (3.1.2)\n",
            "Requirement already satisfied: fsspec in /usr/local/lib/python3.10/dist-packages (from torch->-r requirements.txt (line 15)) (2023.6.0)\n",
            "Requirement already satisfied: triton==2.1.0 in /usr/local/lib/python3.10/dist-packages (from torch->-r requirements.txt (line 15)) (2.1.0)\n",
            "Requirement already satisfied: requests in /usr/local/lib/python3.10/dist-packages (from torchvision->-r requirements.txt (line 19)) (2.31.0)\n",
            "Requirement already satisfied: six>=1.5 in /usr/local/lib/python3.10/dist-packages (from python-dateutil>=2.7->matplotlib==3.4.2->-r requirements.txt (line 3)) (1.16.0)\n",
            "Requirement already satisfied: MarkupSafe>=2.0 in /usr/local/lib/python3.10/dist-packages (from jinja2->torch->-r requirements.txt (line 15)) (2.1.3)\n",
            "Requirement already satisfied: charset-normalizer<4,>=2 in /usr/local/lib/python3.10/dist-packages (from requests->torchvision->-r requirements.txt (line 19)) (3.3.2)\n",
            "Requirement already satisfied: idna<4,>=2.5 in /usr/local/lib/python3.10/dist-packages (from requests->torchvision->-r requirements.txt (line 19)) (3.6)\n",
            "Requirement already satisfied: urllib3<3,>=1.21.1 in /usr/local/lib/python3.10/dist-packages (from requests->torchvision->-r requirements.txt (line 19)) (2.0.7)\n",
            "Requirement already satisfied: certifi>=2017.4.17 in /usr/local/lib/python3.10/dist-packages (from requests->torchvision->-r requirements.txt (line 19)) (2023.11.17)\n",
            "Requirement already satisfied: mpmath>=0.19 in /usr/local/lib/python3.10/dist-packages (from sympy->torch->-r requirements.txt (line 15)) (1.3.0)\n",
            "Building wheels for collected packages: matplotlib, wget\n",
            "  Building wheel for matplotlib (setup.py) ... \u001b[?25l\u001b[?25hdone\n",
            "  Created wheel for matplotlib: filename=matplotlib-3.4.2-cp310-cp310-linux_x86_64.whl size=10436396 sha256=b0954aabf6c4c739f3ce758aee9aed8267c4a008e79f0f9bcc001f1690f97a84\n",
            "  Stored in directory: /root/.cache/pip/wheels/d9/e8/73/f806fc40c211022378c2828e3cce1eac412344111ab1becd9d\n",
            "  Building wheel for wget (setup.py) ... \u001b[?25l\u001b[?25hdone\n",
            "  Created wheel for wget: filename=wget-3.2-py3-none-any.whl size=9655 sha256=7d58fee1d1433e460c7d7127572518a838b18e377e222e8f2b73292662a84929\n",
            "  Stored in directory: /root/.cache/pip/wheels/8b/f1/7f/5c94f0a7a505ca1c81cd1d9208ae2064675d97582078e6c769\n",
            "Successfully built matplotlib wget\n",
            "Installing collected packages: wget, matplotlib, timm\n",
            "  Attempting uninstall: matplotlib\n",
            "    Found existing installation: matplotlib 3.7.1\n",
            "    Uninstalling matplotlib-3.7.1:\n",
            "      Successfully uninstalled matplotlib-3.7.1\n",
            "\u001b[31mERROR: pip's dependency resolver does not currently take into account all the packages that are installed. This behaviour is the source of the following dependency conflicts.\n",
            "lida 0.0.10 requires fastapi, which is not installed.\n",
            "lida 0.0.10 requires kaleido, which is not installed.\n",
            "lida 0.0.10 requires python-multipart, which is not installed.\n",
            "lida 0.0.10 requires uvicorn, which is not installed.\n",
            "mizani 0.9.3 requires matplotlib>=3.5.0, but you have matplotlib 3.4.2 which is incompatible.\n",
            "plotnine 0.12.4 requires matplotlib>=3.6.0, but you have matplotlib 3.4.2 which is incompatible.\u001b[0m\u001b[31m\n",
            "\u001b[0mSuccessfully installed matplotlib-3.4.2 timm-0.4.5 wget-3.2\n"
          ]
        },
        {
          "output_type": "display_data",
          "data": {
            "application/vnd.colab-display-data+json": {
              "pip_warning": {
                "packages": [
                  "matplotlib",
                  "mpl_toolkits"
                ]
              }
            }
          },
          "metadata": {}
        }
      ]
    },
    {
      "cell_type": "code",
      "source": [
        "%cd src\n",
        "from models import ASTModel"
      ],
      "metadata": {
        "colab": {
          "base_uri": "https://localhost:8080/"
        },
        "id": "WE_dFNExXJn7",
        "outputId": "ad104b07-7c65-4154-a3be-30a3822cf24c"
      },
      "execution_count": 4,
      "outputs": [
        {
          "output_type": "stream",
          "name": "stdout",
          "text": [
            "/content/ast/src\n"
          ]
        }
      ]
    },
    {
      "cell_type": "code",
      "source": [
        "%cd ../../in_the_jungle"
      ],
      "metadata": {
        "colab": {
          "base_uri": "https://localhost:8080/"
        },
        "id": "Qv2XyLP3adeM",
        "outputId": "3ddc265c-12be-4c2c-caeb-cfc7e2d316c8"
      },
      "execution_count": 5,
      "outputs": [
        {
          "output_type": "stream",
          "name": "stdout",
          "text": [
            "/content/in_the_jungle\n"
          ]
        }
      ]
    },
    {
      "cell_type": "code",
      "source": [
        "!pip install -r requirements.txt"
      ],
      "metadata": {
        "colab": {
          "base_uri": "https://localhost:8080/"
        },
        "id": "bMvmY1gjbvNK",
        "outputId": "59b15650-1334-4993-a2b4-e679d9ccaf19"
      },
      "execution_count": 6,
      "outputs": [
        {
          "output_type": "stream",
          "name": "stdout",
          "text": [
            "Requirement already satisfied: librosa==0.10.1 in /usr/local/lib/python3.10/dist-packages (from -r requirements.txt (line 1)) (0.10.1)\n",
            "Requirement already satisfied: numpy in /usr/local/lib/python3.10/dist-packages (from -r requirements.txt (line 2)) (1.23.5)\n",
            "Requirement already satisfied: matplotlib in /usr/local/lib/python3.10/dist-packages (from -r requirements.txt (line 3)) (3.4.2)\n",
            "Requirement already satisfied: pandas in /usr/local/lib/python3.10/dist-packages (from -r requirements.txt (line 4)) (1.5.3)\n",
            "Collecting audiomentations (from -r requirements.txt (line 5))\n",
            "  Downloading audiomentations-0.34.1-py3-none-any.whl (76 kB)\n",
            "\u001b[2K     \u001b[90m━━━━━━━━━━━━━━━━━━━━━━━━━━━━━━━━━━━━━━━━\u001b[0m \u001b[32m77.0/77.0 kB\u001b[0m \u001b[31m2.5 MB/s\u001b[0m eta \u001b[36m0:00:00\u001b[0m\n",
            "\u001b[?25hRequirement already satisfied: audioread>=2.1.9 in /usr/local/lib/python3.10/dist-packages (from librosa==0.10.1->-r requirements.txt (line 1)) (3.0.1)\n",
            "Requirement already satisfied: scipy>=1.2.0 in /usr/local/lib/python3.10/dist-packages (from librosa==0.10.1->-r requirements.txt (line 1)) (1.11.4)\n",
            "Requirement already satisfied: scikit-learn>=0.20.0 in /usr/local/lib/python3.10/dist-packages (from librosa==0.10.1->-r requirements.txt (line 1)) (1.2.2)\n",
            "Requirement already satisfied: joblib>=0.14 in /usr/local/lib/python3.10/dist-packages (from librosa==0.10.1->-r requirements.txt (line 1)) (1.3.2)\n",
            "Requirement already satisfied: decorator>=4.3.0 in /usr/local/lib/python3.10/dist-packages (from librosa==0.10.1->-r requirements.txt (line 1)) (4.4.2)\n",
            "Requirement already satisfied: numba>=0.51.0 in /usr/local/lib/python3.10/dist-packages (from librosa==0.10.1->-r requirements.txt (line 1)) (0.58.1)\n",
            "Requirement already satisfied: soundfile>=0.12.1 in /usr/local/lib/python3.10/dist-packages (from librosa==0.10.1->-r requirements.txt (line 1)) (0.12.1)\n",
            "Requirement already satisfied: pooch>=1.0 in /usr/local/lib/python3.10/dist-packages (from librosa==0.10.1->-r requirements.txt (line 1)) (1.8.0)\n",
            "Requirement already satisfied: soxr>=0.3.2 in /usr/local/lib/python3.10/dist-packages (from librosa==0.10.1->-r requirements.txt (line 1)) (0.3.7)\n",
            "Requirement already satisfied: typing-extensions>=4.1.1 in /usr/local/lib/python3.10/dist-packages (from librosa==0.10.1->-r requirements.txt (line 1)) (4.5.0)\n",
            "Requirement already satisfied: lazy-loader>=0.1 in /usr/local/lib/python3.10/dist-packages (from librosa==0.10.1->-r requirements.txt (line 1)) (0.3)\n",
            "Requirement already satisfied: msgpack>=1.0 in /usr/local/lib/python3.10/dist-packages (from librosa==0.10.1->-r requirements.txt (line 1)) (1.0.7)\n",
            "Requirement already satisfied: cycler>=0.10 in /usr/local/lib/python3.10/dist-packages (from matplotlib->-r requirements.txt (line 3)) (0.12.1)\n",
            "Requirement already satisfied: kiwisolver>=1.0.1 in /usr/local/lib/python3.10/dist-packages (from matplotlib->-r requirements.txt (line 3)) (1.4.5)\n",
            "Requirement already satisfied: pillow>=6.2.0 in /usr/local/lib/python3.10/dist-packages (from matplotlib->-r requirements.txt (line 3)) (9.4.0)\n",
            "Requirement already satisfied: pyparsing>=2.2.1 in /usr/local/lib/python3.10/dist-packages (from matplotlib->-r requirements.txt (line 3)) (3.1.1)\n",
            "Requirement already satisfied: python-dateutil>=2.7 in /usr/local/lib/python3.10/dist-packages (from matplotlib->-r requirements.txt (line 3)) (2.8.2)\n",
            "Requirement already satisfied: pytz>=2020.1 in /usr/local/lib/python3.10/dist-packages (from pandas->-r requirements.txt (line 4)) (2023.3.post1)\n",
            "Requirement already satisfied: llvmlite<0.42,>=0.41.0dev0 in /usr/local/lib/python3.10/dist-packages (from numba>=0.51.0->librosa==0.10.1->-r requirements.txt (line 1)) (0.41.1)\n",
            "Requirement already satisfied: platformdirs>=2.5.0 in /usr/local/lib/python3.10/dist-packages (from pooch>=1.0->librosa==0.10.1->-r requirements.txt (line 1)) (4.1.0)\n",
            "Requirement already satisfied: packaging>=20.0 in /usr/local/lib/python3.10/dist-packages (from pooch>=1.0->librosa==0.10.1->-r requirements.txt (line 1)) (23.2)\n",
            "Requirement already satisfied: requests>=2.19.0 in /usr/local/lib/python3.10/dist-packages (from pooch>=1.0->librosa==0.10.1->-r requirements.txt (line 1)) (2.31.0)\n",
            "Requirement already satisfied: six>=1.5 in /usr/local/lib/python3.10/dist-packages (from python-dateutil>=2.7->matplotlib->-r requirements.txt (line 3)) (1.16.0)\n",
            "Requirement already satisfied: threadpoolctl>=2.0.0 in /usr/local/lib/python3.10/dist-packages (from scikit-learn>=0.20.0->librosa==0.10.1->-r requirements.txt (line 1)) (3.2.0)\n",
            "Requirement already satisfied: cffi>=1.0 in /usr/local/lib/python3.10/dist-packages (from soundfile>=0.12.1->librosa==0.10.1->-r requirements.txt (line 1)) (1.16.0)\n",
            "Requirement already satisfied: pycparser in /usr/local/lib/python3.10/dist-packages (from cffi>=1.0->soundfile>=0.12.1->librosa==0.10.1->-r requirements.txt (line 1)) (2.21)\n",
            "Requirement already satisfied: charset-normalizer<4,>=2 in /usr/local/lib/python3.10/dist-packages (from requests>=2.19.0->pooch>=1.0->librosa==0.10.1->-r requirements.txt (line 1)) (3.3.2)\n",
            "Requirement already satisfied: idna<4,>=2.5 in /usr/local/lib/python3.10/dist-packages (from requests>=2.19.0->pooch>=1.0->librosa==0.10.1->-r requirements.txt (line 1)) (3.6)\n",
            "Requirement already satisfied: urllib3<3,>=1.21.1 in /usr/local/lib/python3.10/dist-packages (from requests>=2.19.0->pooch>=1.0->librosa==0.10.1->-r requirements.txt (line 1)) (2.0.7)\n",
            "Requirement already satisfied: certifi>=2017.4.17 in /usr/local/lib/python3.10/dist-packages (from requests>=2.19.0->pooch>=1.0->librosa==0.10.1->-r requirements.txt (line 1)) (2023.11.17)\n",
            "Installing collected packages: audiomentations\n",
            "Successfully installed audiomentations-0.34.1\n"
          ]
        }
      ]
    },
    {
      "cell_type": "code",
      "source": [
        "!echo -n \"/content/in_the_jungle/data\" > data_dir_path.txt\n",
        "!ls"
      ],
      "metadata": {
        "id": "6q35i0h-b4s-"
      },
      "execution_count": 7,
      "outputs": []
    },
    {
      "cell_type": "code",
      "source": [
        "from preprocess import create_signal, pad_or_trim_audio, label_encoding\n",
        "import numpy as np\n",
        "import numpy as np\n",
        "import torch.optim as optim\n",
        "from torch.optim import lr_scheduler\n",
        "import torch\n",
        "import torch.nn as nn\n",
        "from torchvision import datasets\n",
        "from torchvision import transforms\n",
        "from torch.utils.data.sampler import SubsetRandomSampler\n",
        "import torchvision.models as models\n",
        "import numpy as np\n",
        "import matplotlib.pyplot as plt\n",
        "import pandas as pd\n",
        "import librosa\n",
        "import librosa.display\n",
        "import os\n",
        "import shutil\n",
        "import json\n",
        "from ast import literal_eval\n",
        "from audiomentations import AddGaussianNoise, AirAbsorption, ApplyImpulseResponse, BandPassFilter, GainTransition, RepeatPart, TimeStretch, TanhDistortion\n",
        "from sklearn.model_selection import train_test_split\n",
        "import time\n",
        "import copy\n",
        "\n",
        "def get_spectrogram(signal, sr=22050):\n",
        "  spectrogram = librosa.feature.melspectrogram(y=signal, sr=sr)\n",
        "  return librosa.amplitude_to_db(spectrogram)\n",
        "\n",
        "def get_mfcc(signal, n_mfcc=13):\n",
        "    return librosa.feature.mfcc(y=signal, n_mfcc=n_mfcc)\n"
      ],
      "metadata": {
        "id": "J8MV3yGjcXmb"
      },
      "execution_count": 9,
      "outputs": []
    },
    {
      "cell_type": "code",
      "source": [
        "with open(\"./data_dir_path.txt\") as f:\n",
        "    data_dir = f.read()\n",
        "\n",
        "print(data_dir)\n",
        "\n",
        "df = pd.DataFrame(columns=[\"signal\", \"label\"])\n",
        "subdirs = [f for f in os.listdir(data_dir) if not f.startswith('.')]\n",
        "\n",
        "for sd in subdirs:\n",
        "    out_path = \"{}/{}\".format(data_dir, sd)\n",
        "    for file in os.listdir(\"{}/wav\".format(out_path)):\n",
        "        sig = create_signal(\"{}/wav/{}\".format(out_path, file), out_path)\n",
        "        sig = pad_or_trim_audio(sig, 22050 * 2)\n",
        "        df.loc[len(df)] = [sig, label_encoding[sd]]\n",
        "\n",
        "\n",
        "signal = np.vstack(df[\"signal\"])\n",
        "label = np.array(df[\"label\"])\n",
        "\n",
        "device = torch.device('cuda' if torch.cuda.is_available() else 'cpu')\n",
        "x_train, x_test, y_train, y_test = train_test_split(signal, label, test_size=0.2)\n",
        "print(x_train.shape, y_train.shape, x_test.shape, y_test.shape)\n",
        "\n",
        "spectrogram_train = get_spectrogram(x_train, sr=16000)\n",
        "spectrogram_test = get_spectrogram(x_test, sr=16000)\n",
        "print(spectrogram_train.shape)\n",
        "\n",
        "mfcc_train = get_mfcc(x_train, n_mfcc=20)\n",
        "mfcc_test = get_mfcc(x_test, n_mfcc=20)\n",
        "print(mfcc_train.shape)"
      ],
      "metadata": {
        "colab": {
          "base_uri": "https://localhost:8080/"
        },
        "id": "Nkztju6caXGL",
        "outputId": "48d85902-db0e-4cb5-adba-2e977ae3323f"
      },
      "execution_count": 11,
      "outputs": [
        {
          "output_type": "stream",
          "name": "stdout",
          "text": [
            "/content/in_the_jungle/data\n",
            "(700, 44100) (700,) (175, 44100) (175,)\n",
            "(700, 128, 87)\n",
            "(700, 20, 87)\n"
          ]
        }
      ]
    },
    {
      "cell_type": "code",
      "source": [
        "train_data_spectrogram = []\n",
        "test_data_spectrogram = []\n",
        "\n",
        "train_data_mfcc = []\n",
        "test_data_mfcc = []\n",
        "\n",
        "for i in range(spectrogram_train.shape[0]):\n",
        "    train_data_spectrogram.append((spectrogram_train[i], y_train[i]))\n",
        "    train_data_mfcc.append((mfcc_train[i], y_train[i]))\n",
        "\n",
        "for i in range(spectrogram_test.shape[0]):\n",
        "    test_data_spectrogram.append((spectrogram_test[i], y_test[i]))\n",
        "    test_data_mfcc.append((mfcc_test[i], y_test[i]))\n",
        "\n",
        "\n",
        "train_loader_spectrogram = torch.utils.data.DataLoader(train_data_spectrogram, batch_size=32)\n",
        "train_loader_mfcc = torch.utils.data.DataLoader(train_data_mfcc, batch_size=32)\n",
        "\n",
        "test_loader_spectrogram = torch.utils.data.DataLoader(test_data_spectrogram, batch_size=32)\n",
        "test_loader_mfcc = torch.utils.data.DataLoader(test_data_mfcc, batch_size=32)"
      ],
      "metadata": {
        "id": "LRs9ajaEfUgZ"
      },
      "execution_count": 23,
      "outputs": []
    },
    {
      "cell_type": "code",
      "source": [
        "def train(net, optimizer, criterion, train_loader, test_loader, epochs):\n",
        "    model = net.to(device)\n",
        "    total_step = len(train_loader)\n",
        "    overall_step = 0\n",
        "    train_loss_values = []\n",
        "    train_error = []\n",
        "    val_loss_values = []\n",
        "    val_error = []\n",
        "    for epoch in range(epochs):\n",
        "        print(\"epoch\", epoch)\n",
        "        correct = 0\n",
        "        total = 0\n",
        "        flag = 0\n",
        "        running_loss = 0.0\n",
        "        for i, (images, labels) in enumerate(train_loader):\n",
        "            # Move tensors to configured device\n",
        "            images = images.to(device)\n",
        "            labels = labels.to(device)\n",
        "            #Forward Pass\n",
        "            outputs = model(images)\n",
        "            loss = criterion(outputs, labels)\n",
        "            optimizer.zero_grad()\n",
        "            loss.backward()\n",
        "            running_loss += loss.item()\n",
        "            _, predicted = torch.max(outputs.data, 1)\n",
        "            total += labels.size(0)\n",
        "            correct += (predicted == labels).sum().item()\n",
        "            optimizer.step()\n",
        "            # if (i+1) % 1000 == 0:\n",
        "            #   print ('Epoch [{}/{}], Step [{}/{}], Loss: {:.4f}'.format(epoch+1, epochs, i+1, total_step, loss.item()))\n",
        "            # if plot:\n",
        "            #   info = { ('loss_' + model_name): loss.item() }\n",
        "\n",
        "              #for tag, value in info.items():\n",
        "                #logger.scalar_summary(tag, value, overall_step+1)\n",
        "        train_loss_values.append(running_loss)\n",
        "        train_error.append(100-100*correct/total)\n",
        "\n",
        "        model.eval()\n",
        "        with torch.no_grad():\n",
        "            correct = 0\n",
        "            total = 0\n",
        "            for i, (images, labels) in enumerate(test_loader):\n",
        "                images = images.to(device)\n",
        "                labels = labels.to(device)\n",
        "                outputs = model(images)\n",
        "                _, predicted = torch.max(outputs.data, 1)\n",
        "                total += labels.size(0)\n",
        "                correct += (predicted == labels).sum().item()\n",
        "\n",
        "        print('Accuracy of the network on the test images: {} %'.format(100 * correct / total))\n",
        "        val_error.append(100-100*correct/total)\n",
        "        val_loss_values.append(running_loss)\n",
        "    return val_error,val_loss_values,train_error,train_loss_values"
      ],
      "metadata": {
        "id": "I1orPQl4cjAC"
      },
      "execution_count": 13,
      "outputs": []
    },
    {
      "cell_type": "code",
      "source": [
        "%cd /content/ast/src/models"
      ],
      "metadata": {
        "colab": {
          "base_uri": "https://localhost:8080/"
        },
        "id": "MJbYKispW-W1",
        "outputId": "b4c3df41-b9fd-43fc-86f0-92725dff7b99"
      },
      "execution_count": 20,
      "outputs": [
        {
          "output_type": "stream",
          "name": "stdout",
          "text": [
            "/content/ast/src/models\n"
          ]
        }
      ]
    },
    {
      "cell_type": "code",
      "source": [
        "ast_mdl = ASTModel(label_dim=10, input_tdim=128, input_fdim=87, audioset_pretrain=True, imagenet_pretrain=True)"
      ],
      "metadata": {
        "colab": {
          "base_uri": "https://localhost:8080/"
        },
        "id": "XlCrgan3fDiF",
        "outputId": "6c8f4a35-639d-4047-a582-92e059e8627a"
      },
      "execution_count": 21,
      "outputs": [
        {
          "output_type": "stream",
          "name": "stdout",
          "text": [
            "---------------AST Model Summary---------------\n",
            "ImageNet pretraining: True, AudioSet pretraining: True\n",
            "frequncey stride=10, time stride=10\n",
            "number of patches=96\n"
          ]
        }
      ]
    },
    {
      "cell_type": "code",
      "source": [
        "model = ast_mdl.to(device)\n",
        "epochs = 50\n",
        "criterion = nn.CrossEntropyLoss()\n",
        "\n",
        "optimizer = optim.SGD(model.parameters(), lr=0.01, momentum=0.9, weight_decay=10e-5, nesterov=True)\n",
        "val_error,val_loss_values,train_error,train_loss_values= train(model, optimizer, criterion, train_loader_spectrogram, test_loader_spectrogram, epochs)"
      ],
      "metadata": {
        "colab": {
          "base_uri": "https://localhost:8080/"
        },
        "id": "oX6YWzuscwqN",
        "outputId": "006151e8-6420-447a-95ff-644272e7e084"
      },
      "execution_count": 25,
      "outputs": [
        {
          "output_type": "stream",
          "name": "stdout",
          "text": [
            "epoch 0\n",
            "Accuracy of the network on the test images: 64.0 %\n",
            "epoch 1\n",
            "Accuracy of the network on the test images: 65.14285714285714 %\n",
            "epoch 2\n",
            "Accuracy of the network on the test images: 61.714285714285715 %\n",
            "epoch 3\n",
            "Accuracy of the network on the test images: 72.57142857142857 %\n",
            "epoch 4\n",
            "Accuracy of the network on the test images: 69.71428571428571 %\n",
            "epoch 5\n",
            "Accuracy of the network on the test images: 77.71428571428571 %\n",
            "epoch 6\n",
            "Accuracy of the network on the test images: 70.28571428571429 %\n",
            "epoch 7\n",
            "Accuracy of the network on the test images: 74.28571428571429 %\n",
            "epoch 8\n",
            "Accuracy of the network on the test images: 73.71428571428571 %\n",
            "epoch 9\n",
            "Accuracy of the network on the test images: 76.0 %\n",
            "epoch 10\n",
            "Accuracy of the network on the test images: 75.42857142857143 %\n",
            "epoch 11\n",
            "Accuracy of the network on the test images: 72.57142857142857 %\n",
            "epoch 12\n",
            "Accuracy of the network on the test images: 70.28571428571429 %\n",
            "epoch 13\n",
            "Accuracy of the network on the test images: 77.71428571428571 %\n",
            "epoch 14\n",
            "Accuracy of the network on the test images: 76.57142857142857 %\n",
            "epoch 15\n",
            "Accuracy of the network on the test images: 77.14285714285714 %\n",
            "epoch 16\n",
            "Accuracy of the network on the test images: 77.14285714285714 %\n",
            "epoch 17\n",
            "Accuracy of the network on the test images: 72.57142857142857 %\n",
            "epoch 18\n",
            "Accuracy of the network on the test images: 77.14285714285714 %\n",
            "epoch 19\n",
            "Accuracy of the network on the test images: 76.57142857142857 %\n",
            "epoch 20\n",
            "Accuracy of the network on the test images: 77.14285714285714 %\n",
            "epoch 21\n",
            "Accuracy of the network on the test images: 77.14285714285714 %\n",
            "epoch 22\n",
            "Accuracy of the network on the test images: 76.57142857142857 %\n",
            "epoch 23\n",
            "Accuracy of the network on the test images: 77.14285714285714 %\n",
            "epoch 24\n",
            "Accuracy of the network on the test images: 77.14285714285714 %\n",
            "epoch 25\n",
            "Accuracy of the network on the test images: 77.14285714285714 %\n",
            "epoch 26\n",
            "Accuracy of the network on the test images: 77.14285714285714 %\n",
            "epoch 27\n",
            "Accuracy of the network on the test images: 77.14285714285714 %\n",
            "epoch 28\n",
            "Accuracy of the network on the test images: 77.14285714285714 %\n",
            "epoch 29\n",
            "Accuracy of the network on the test images: 77.14285714285714 %\n",
            "epoch 30\n",
            "Accuracy of the network on the test images: 77.14285714285714 %\n",
            "epoch 31\n",
            "Accuracy of the network on the test images: 77.14285714285714 %\n",
            "epoch 32\n",
            "Accuracy of the network on the test images: 77.14285714285714 %\n",
            "epoch 33\n",
            "Accuracy of the network on the test images: 77.14285714285714 %\n",
            "epoch 34\n",
            "Accuracy of the network on the test images: 77.14285714285714 %\n",
            "epoch 35\n",
            "Accuracy of the network on the test images: 77.14285714285714 %\n",
            "epoch 36\n",
            "Accuracy of the network on the test images: 77.14285714285714 %\n",
            "epoch 37\n",
            "Accuracy of the network on the test images: 77.14285714285714 %\n",
            "epoch 38\n",
            "Accuracy of the network on the test images: 77.14285714285714 %\n",
            "epoch 39\n",
            "Accuracy of the network on the test images: 77.71428571428571 %\n",
            "epoch 40\n",
            "Accuracy of the network on the test images: 77.71428571428571 %\n",
            "epoch 41\n",
            "Accuracy of the network on the test images: 77.71428571428571 %\n",
            "epoch 42\n",
            "Accuracy of the network on the test images: 77.71428571428571 %\n",
            "epoch 43\n",
            "Accuracy of the network on the test images: 77.71428571428571 %\n",
            "epoch 44\n",
            "Accuracy of the network on the test images: 77.71428571428571 %\n",
            "epoch 45\n",
            "Accuracy of the network on the test images: 77.14285714285714 %\n",
            "epoch 46\n",
            "Accuracy of the network on the test images: 77.14285714285714 %\n",
            "epoch 47\n",
            "Accuracy of the network on the test images: 77.14285714285714 %\n",
            "epoch 48\n",
            "Accuracy of the network on the test images: 77.14285714285714 %\n",
            "epoch 49\n",
            "Accuracy of the network on the test images: 77.14285714285714 %\n"
          ]
        }
      ]
    },
    {
      "cell_type": "code",
      "source": [
        "plt.plot(train_error, 'r')\n",
        "plt.xlabel('Iteration')\n",
        "plt.ylabel('Training Error')\n",
        "plt.show()\n",
        "\n",
        "plt.plot(train_loss_values, 'r')\n",
        "plt.xlabel('Iteration')\n",
        "plt.ylabel('Total Training Loss')\n",
        "plt.show()\n",
        "\n",
        "plt.plot(val_error, 'r')\n",
        "plt.xlabel('Iteration')\n",
        "plt.ylabel('Validation Error')\n",
        "plt.show()\n",
        "\n",
        "plt.plot(val_loss_values, 'r')\n",
        "plt.xlabel('Iteration')\n",
        "plt.ylabel('Total Validation Loss')\n",
        "plt.show()"
      ],
      "metadata": {
        "colab": {
          "base_uri": "https://localhost:8080/",
          "height": 1000
        },
        "id": "aDTGO2A9aqTp",
        "outputId": "00cc00a4-162d-4edf-af33-a76cae03cb93"
      },
      "execution_count": 27,
      "outputs": [
        {
          "output_type": "display_data",
          "data": {
            "text/plain": [
              "<Figure size 640x480 with 1 Axes>"
            ],
            "image/png": "[encoded data removed]"
          },
          "metadata": {}
        },
        {
          "output_type": "display_data",
          "data": {
            "text/plain": [
              "<Figure size 640x480 with 1 Axes>"
            ],
            "image/png": "[encoded data removed]"
          },
          "metadata": {}
        },
        {
          "output_type": "display_data",
          "data": {
            "text/plain": [
              "<Figure size 640x480 with 1 Axes>"
            ],
            "image/png": "[encoded data removed]"
          },
          "metadata": {}
        },
        {
          "output_type": "display_data",
          "data": {
            "text/plain": [
              "<Figure size 640x480 with 1 Axes>"
            ],
            "image/png": "[encoded data removed]"
          },
          "metadata": {}
        }
      ]
    },
    {
      "cell_type": "code",
      "source": [
        "ast_mdl2 = ASTModel(label_dim=10, input_tdim=20, input_fdim=87, audioset_pretrain=True, imagenet_pretrain=True)\n",
        "model2 = ast_mdl2.to(device)\n",
        "epochs = 50\n",
        "criterion2 = nn.CrossEntropyLoss()\n",
        "\n",
        "optimizer2 = optim.SGD(model.parameters(), lr=0.01, momentum=0.9, weight_decay=10e-5, nesterov=True)\n",
        "val_error2,val_loss_values2,train_error2,train_loss_values2= train(model2, optimizer2, criterion2, train_loader_mfcc, test_loader_mfcc, epochs)"
      ],
      "metadata": {
        "colab": {
          "base_uri": "https://localhost:8080/"
        },
        "id": "qQmYs49RfWWq",
        "outputId": "d0676a5f-d0b8-433c-c702-8ead919d58c8"
      },
      "execution_count": 28,
      "outputs": [
        {
          "output_type": "stream",
          "name": "stdout",
          "text": [
            "---------------AST Model Summary---------------\n",
            "ImageNet pretraining: True, AudioSet pretraining: True\n",
            "frequncey stride=10, time stride=10\n",
            "number of patches=8\n",
            "epoch 0\n",
            "Accuracy of the network on the test images: 8.0 %\n",
            "epoch 1\n",
            "Accuracy of the network on the test images: 8.0 %\n",
            "epoch 2\n",
            "Accuracy of the network on the test images: 8.0 %\n",
            "epoch 3\n",
            "Accuracy of the network on the test images: 8.0 %\n",
            "epoch 4\n",
            "Accuracy of the network on the test images: 8.0 %\n",
            "epoch 5\n",
            "Accuracy of the network on the test images: 8.0 %\n",
            "epoch 6\n",
            "Accuracy of the network on the test images: 8.0 %\n",
            "epoch 7\n",
            "Accuracy of the network on the test images: 8.0 %\n",
            "epoch 8\n",
            "Accuracy of the network on the test images: 8.0 %\n",
            "epoch 9\n",
            "Accuracy of the network on the test images: 8.0 %\n",
            "epoch 10\n",
            "Accuracy of the network on the test images: 8.0 %\n",
            "epoch 11\n",
            "Accuracy of the network on the test images: 8.0 %\n",
            "epoch 12\n",
            "Accuracy of the network on the test images: 8.0 %\n",
            "epoch 13\n",
            "Accuracy of the network on the test images: 8.0 %\n",
            "epoch 14\n",
            "Accuracy of the network on the test images: 8.0 %\n",
            "epoch 15\n",
            "Accuracy of the network on the test images: 8.0 %\n",
            "epoch 16\n",
            "Accuracy of the network on the test images: 8.0 %\n",
            "epoch 17\n",
            "Accuracy of the network on the test images: 8.0 %\n",
            "epoch 18\n",
            "Accuracy of the network on the test images: 8.0 %\n",
            "epoch 19\n",
            "Accuracy of the network on the test images: 8.0 %\n",
            "epoch 20\n",
            "Accuracy of the network on the test images: 8.0 %\n",
            "epoch 21\n",
            "Accuracy of the network on the test images: 8.0 %\n",
            "epoch 22\n",
            "Accuracy of the network on the test images: 8.0 %\n",
            "epoch 23\n",
            "Accuracy of the network on the test images: 8.0 %\n",
            "epoch 24\n",
            "Accuracy of the network on the test images: 8.0 %\n",
            "epoch 25\n",
            "Accuracy of the network on the test images: 8.0 %\n",
            "epoch 26\n",
            "Accuracy of the network on the test images: 8.0 %\n",
            "epoch 27\n",
            "Accuracy of the network on the test images: 8.0 %\n",
            "epoch 28\n",
            "Accuracy of the network on the test images: 8.0 %\n",
            "epoch 29\n",
            "Accuracy of the network on the test images: 8.0 %\n",
            "epoch 30\n",
            "Accuracy of the network on the test images: 8.0 %\n",
            "epoch 31\n",
            "Accuracy of the network on the test images: 8.0 %\n",
            "epoch 32\n",
            "Accuracy of the network on the test images: 8.0 %\n",
            "epoch 33\n",
            "Accuracy of the network on the test images: 8.0 %\n",
            "epoch 34\n",
            "Accuracy of the network on the test images: 8.0 %\n",
            "epoch 35\n",
            "Accuracy of the network on the test images: 8.0 %\n",
            "epoch 36\n",
            "Accuracy of the network on the test images: 8.0 %\n",
            "epoch 37\n",
            "Accuracy of the network on the test images: 8.0 %\n",
            "epoch 38\n",
            "Accuracy of the network on the test images: 8.0 %\n",
            "epoch 39\n",
            "Accuracy of the network on the test images: 8.0 %\n",
            "epoch 40\n",
            "Accuracy of the network on the test images: 8.0 %\n",
            "epoch 41\n",
            "Accuracy of the network on the test images: 8.0 %\n",
            "epoch 42\n",
            "Accuracy of the network on the test images: 8.0 %\n",
            "epoch 43\n",
            "Accuracy of the network on the test images: 8.0 %\n",
            "epoch 44\n",
            "Accuracy of the network on the test images: 8.0 %\n",
            "epoch 45\n",
            "Accuracy of the network on the test images: 8.0 %\n",
            "epoch 46\n",
            "Accuracy of the network on the test images: 8.0 %\n",
            "epoch 47\n",
            "Accuracy of the network on the test images: 8.0 %\n",
            "epoch 48\n",
            "Accuracy of the network on the test images: 8.0 %\n",
            "epoch 49\n",
            "Accuracy of the network on the test images: 8.0 %\n"
          ]
        }
      ]
    }
  ]
}