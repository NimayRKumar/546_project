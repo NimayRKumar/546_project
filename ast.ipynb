{
  "cells": [
    {
      "cell_type": "markdown",
      "source": [
        "# Please run on T4 GPU if using Colab!\n",
        "\n"
      ],
      "metadata": {
        "id": "KuC_IaV-S86y"
      }
    },
    {
      "cell_type": "markdown",
      "source": [
        "### Setting up code for Audio Spectrogram Transformer"
      ],
      "metadata": {
        "id": "Ej3JQPXATC_P"
      }
    },
    {
      "cell_type": "code",
      "execution_count": 1,
      "metadata": {
        "colab": {
          "base_uri": "https://localhost:8080/"
        },
        "id": "K5UiodshUt7P",
        "outputId": "03209b97-f510-49eb-a6a9-c3c40f566448"
      },
      "outputs": [
        {
          "output_type": "stream",
          "name": "stdout",
          "text": [
            "Cloning into 'ast'...\n",
            "remote: Enumerating objects: 649, done.\u001b[K\n",
            "remote: Counting objects: 100% (146/146), done.\u001b[K\n",
            "remote: Compressing objects: 100% (71/71), done.\u001b[K\n",
            "remote: Total 649 (delta 85), reused 129 (delta 75), pack-reused 503\u001b[K\n",
            "Receiving objects: 100% (649/649), 2.42 MiB | 10.68 MiB/s, done.\n",
            "Resolving deltas: 100% (345/345), done.\n",
            "Cloning into 'in_the_jungle'...\n",
            "remote: Enumerating objects: 963, done.\u001b[K\n",
            "remote: Counting objects: 100% (120/120), done.\u001b[K\n",
            "remote: Compressing objects: 100% (82/82), done.\u001b[K\n",
            "remote: Total 963 (delta 37), reused 101 (delta 21), pack-reused 843\u001b[K\n",
            "Receiving objects: 100% (963/963), 104.47 MiB | 17.79 MiB/s, done.\n",
            "Resolving deltas: 100% (47/47), done.\n",
            "Updating files: 100% (893/893), done.\n",
            "Reading package lists... Done\n",
            "Building dependency tree... Done\n",
            "Reading state information... Done\n",
            "The following additional packages will be installed:\n",
            "  python3-pip-whl python3-setuptools-whl\n",
            "The following NEW packages will be installed:\n",
            "  python3-pip-whl python3-setuptools-whl python3.10-venv\n",
            "0 upgraded, 3 newly installed, 0 to remove and 24 not upgraded.\n",
            "Need to get 2,473 kB of archives.\n",
            "After this operation, 2,884 kB of additional disk space will be used.\n",
            "Get:1 http://archive.ubuntu.com/ubuntu jammy-updates/universe amd64 python3-pip-whl all 22.0.2+dfsg-1ubuntu0.4 [1,680 kB]\n",
            "Get:2 http://archive.ubuntu.com/ubuntu jammy-updates/universe amd64 python3-setuptools-whl all 59.6.0-1.2ubuntu0.22.04.1 [788 kB]\n",
            "Get:3 http://archive.ubuntu.com/ubuntu jammy-updates/universe amd64 python3.10-venv amd64 3.10.12-1~22.04.3 [5,716 B]\n",
            "Fetched 2,473 kB in 1s (4,724 kB/s)\n",
            "Selecting previously unselected package python3-pip-whl.\n",
            "(Reading database ... 121666 files and directories currently installed.)\n",
            "Preparing to unpack .../python3-pip-whl_22.0.2+dfsg-1ubuntu0.4_all.deb ...\n",
            "Unpacking python3-pip-whl (22.0.2+dfsg-1ubuntu0.4) ...\n",
            "Selecting previously unselected package python3-setuptools-whl.\n",
            "Preparing to unpack .../python3-setuptools-whl_59.6.0-1.2ubuntu0.22.04.1_all.deb ...\n",
            "Unpacking python3-setuptools-whl (59.6.0-1.2ubuntu0.22.04.1) ...\n",
            "Selecting previously unselected package python3.10-venv.\n",
            "Preparing to unpack .../python3.10-venv_3.10.12-1~22.04.3_amd64.deb ...\n",
            "Unpacking python3.10-venv (3.10.12-1~22.04.3) ...\n",
            "Setting up python3-setuptools-whl (59.6.0-1.2ubuntu0.22.04.1) ...\n",
            "Setting up python3-pip-whl (22.0.2+dfsg-1ubuntu0.4) ...\n",
            "Setting up python3.10-venv (3.10.12-1~22.04.3) ...\n"
          ]
        }
      ],
      "source": [
        "!git clone https://github.com/YuanGongND/ast.git\n",
        "!git clone https://github.com/NimayRKumar/in_the_jungle.git\n",
        "!apt install python3.10-venv\n",
        "!python3 -m venv venvast\n",
        "!source venvast/bin/activate"
      ]
    },
    {
      "cell_type": "code",
      "execution_count": 2,
      "metadata": {
        "colab": {
          "base_uri": "https://localhost:8080/"
        },
        "id": "dO79VptnX3Oo",
        "outputId": "4a27fb39-b523-4f49-e1dc-e51bf5698411"
      },
      "outputs": [
        {
          "output_type": "stream",
          "name": "stdout",
          "text": [
            "/content/ast\n"
          ]
        }
      ],
      "source": [
        "%cd ast"
      ]
    },
    {
      "cell_type": "markdown",
      "metadata": {
        "id": "C4w386qVUoa_"
      },
      "source": [
        "#### The requirements.txt from the AST github have deprecated versions so we use the following from our own ast_requirements.txt file instead. We can ignore the warning about matplotlib\n",
        "llvmlite\n",
        "\n",
        "matplotlib==3.4.2\n",
        "\n",
        "numba\n",
        "\n",
        "numpy\n",
        "\n",
        "scikit-learn\n",
        "\n",
        "scipy\n",
        "\n",
        "timm==0.4.5\n",
        "\n",
        "torch\n",
        "\n",
        "torchaudio\n",
        "\n",
        "torchvision\n",
        "\n",
        "wget\n",
        "\n",
        "zipp"
      ]
    },
    {
      "cell_type": "code",
      "execution_count": 3,
      "metadata": {
        "colab": {
          "base_uri": "https://localhost:8080/",
          "height": 1000
        },
        "id": "LWocH5CiVpWP",
        "outputId": "355e3500-e151-43b6-ea97-957ebb83c3ce"
      },
      "outputs": [
        {
          "output_type": "stream",
          "name": "stdout",
          "text": [
            "Requirement already satisfied: llvmlite in /usr/local/lib/python3.10/dist-packages (from -r /content/in_the_jungle/ast_requirements.txt (line 1)) (0.41.1)\n",
            "Collecting matplotlib==3.4.2 (from -r /content/in_the_jungle/ast_requirements.txt (line 3))\n",
            "  Downloading matplotlib-3.4.2.tar.gz (37.3 MB)\n",
            "\u001b[2K     \u001b[90m━━━━━━━━━━━━━━━━━━━━━━━━━━━━━━━━━━━━━━━━\u001b[0m \u001b[32m37.3/37.3 MB\u001b[0m \u001b[31m31.0 MB/s\u001b[0m eta \u001b[36m0:00:00\u001b[0m\n",
            "\u001b[?25h  Preparing metadata (setup.py) ... \u001b[?25l\u001b[?25hdone\n",
            "Requirement already satisfied: numba in /usr/local/lib/python3.10/dist-packages (from -r /content/in_the_jungle/ast_requirements.txt (line 4)) (0.58.1)\n",
            "Requirement already satisfied: numpy in /usr/local/lib/python3.10/dist-packages (from -r /content/in_the_jungle/ast_requirements.txt (line 5)) (1.23.5)\n",
            "Requirement already satisfied: scikit-learn in /usr/local/lib/python3.10/dist-packages (from -r /content/in_the_jungle/ast_requirements.txt (line 6)) (1.2.2)\n",
            "Requirement already satisfied: scipy in /usr/local/lib/python3.10/dist-packages (from -r /content/in_the_jungle/ast_requirements.txt (line 7)) (1.11.4)\n",
            "Collecting timm==0.4.5 (from -r /content/in_the_jungle/ast_requirements.txt (line 8))\n",
            "  Downloading timm-0.4.5-py3-none-any.whl (287 kB)\n",
            "\u001b[2K     \u001b[90m━━━━━━━━━━━━━━━━━━━━━━━━━━━━━━━━━━━━━━━━\u001b[0m \u001b[32m287.4/287.4 kB\u001b[0m \u001b[31m25.9 MB/s\u001b[0m eta \u001b[36m0:00:00\u001b[0m\n",
            "\u001b[?25hRequirement already satisfied: torch in /usr/local/lib/python3.10/dist-packages (from -r /content/in_the_jungle/ast_requirements.txt (line 9)) (2.1.0+cu121)\n",
            "Requirement already satisfied: torchaudio in /usr/local/lib/python3.10/dist-packages (from -r /content/in_the_jungle/ast_requirements.txt (line 10)) (2.1.0+cu121)\n",
            "Requirement already satisfied: torchvision in /usr/local/lib/python3.10/dist-packages (from -r /content/in_the_jungle/ast_requirements.txt (line 11)) (0.16.0+cu121)\n",
            "Collecting wget (from -r /content/in_the_jungle/ast_requirements.txt (line 12))\n",
            "  Downloading wget-3.2.zip (10 kB)\n",
            "  Preparing metadata (setup.py) ... \u001b[?25l\u001b[?25hdone\n",
            "Requirement already satisfied: zipp in /usr/local/lib/python3.10/dist-packages (from -r /content/in_the_jungle/ast_requirements.txt (line 13)) (3.17.0)\n",
            "Requirement already satisfied: cycler>=0.10 in /usr/local/lib/python3.10/dist-packages (from matplotlib==3.4.2->-r /content/in_the_jungle/ast_requirements.txt (line 3)) (0.12.1)\n",
            "Requirement already satisfied: kiwisolver>=1.0.1 in /usr/local/lib/python3.10/dist-packages (from matplotlib==3.4.2->-r /content/in_the_jungle/ast_requirements.txt (line 3)) (1.4.5)\n",
            "Requirement already satisfied: pillow>=6.2.0 in /usr/local/lib/python3.10/dist-packages (from matplotlib==3.4.2->-r /content/in_the_jungle/ast_requirements.txt (line 3)) (9.4.0)\n",
            "Requirement already satisfied: pyparsing>=2.2.1 in /usr/local/lib/python3.10/dist-packages (from matplotlib==3.4.2->-r /content/in_the_jungle/ast_requirements.txt (line 3)) (3.1.1)\n",
            "Requirement already satisfied: python-dateutil>=2.7 in /usr/local/lib/python3.10/dist-packages (from matplotlib==3.4.2->-r /content/in_the_jungle/ast_requirements.txt (line 3)) (2.8.2)\n",
            "Requirement already satisfied: joblib>=1.1.1 in /usr/local/lib/python3.10/dist-packages (from scikit-learn->-r /content/in_the_jungle/ast_requirements.txt (line 6)) (1.3.2)\n",
            "Requirement already satisfied: threadpoolctl>=2.0.0 in /usr/local/lib/python3.10/dist-packages (from scikit-learn->-r /content/in_the_jungle/ast_requirements.txt (line 6)) (3.2.0)\n",
            "Requirement already satisfied: filelock in /usr/local/lib/python3.10/dist-packages (from torch->-r /content/in_the_jungle/ast_requirements.txt (line 9)) (3.13.1)\n",
            "Requirement already satisfied: typing-extensions in /usr/local/lib/python3.10/dist-packages (from torch->-r /content/in_the_jungle/ast_requirements.txt (line 9)) (4.5.0)\n",
            "Requirement already satisfied: sympy in /usr/local/lib/python3.10/dist-packages (from torch->-r /content/in_the_jungle/ast_requirements.txt (line 9)) (1.12)\n",
            "Requirement already satisfied: networkx in /usr/local/lib/python3.10/dist-packages (from torch->-r /content/in_the_jungle/ast_requirements.txt (line 9)) (3.2.1)\n",
            "Requirement already satisfied: jinja2 in /usr/local/lib/python3.10/dist-packages (from torch->-r /content/in_the_jungle/ast_requirements.txt (line 9)) (3.1.2)\n",
            "Requirement already satisfied: fsspec in /usr/local/lib/python3.10/dist-packages (from torch->-r /content/in_the_jungle/ast_requirements.txt (line 9)) (2023.6.0)\n",
            "Requirement already satisfied: triton==2.1.0 in /usr/local/lib/python3.10/dist-packages (from torch->-r /content/in_the_jungle/ast_requirements.txt (line 9)) (2.1.0)\n",
            "Requirement already satisfied: requests in /usr/local/lib/python3.10/dist-packages (from torchvision->-r /content/in_the_jungle/ast_requirements.txt (line 11)) (2.31.0)\n",
            "Requirement already satisfied: six>=1.5 in /usr/local/lib/python3.10/dist-packages (from python-dateutil>=2.7->matplotlib==3.4.2->-r /content/in_the_jungle/ast_requirements.txt (line 3)) (1.16.0)\n",
            "Requirement already satisfied: MarkupSafe>=2.0 in /usr/local/lib/python3.10/dist-packages (from jinja2->torch->-r /content/in_the_jungle/ast_requirements.txt (line 9)) (2.1.3)\n",
            "Requirement already satisfied: charset-normalizer<4,>=2 in /usr/local/lib/python3.10/dist-packages (from requests->torchvision->-r /content/in_the_jungle/ast_requirements.txt (line 11)) (3.3.2)\n",
            "Requirement already satisfied: idna<4,>=2.5 in /usr/local/lib/python3.10/dist-packages (from requests->torchvision->-r /content/in_the_jungle/ast_requirements.txt (line 11)) (3.6)\n",
            "Requirement already satisfied: urllib3<3,>=1.21.1 in /usr/local/lib/python3.10/dist-packages (from requests->torchvision->-r /content/in_the_jungle/ast_requirements.txt (line 11)) (2.0.7)\n",
            "Requirement already satisfied: certifi>=2017.4.17 in /usr/local/lib/python3.10/dist-packages (from requests->torchvision->-r /content/in_the_jungle/ast_requirements.txt (line 11)) (2023.11.17)\n",
            "Requirement already satisfied: mpmath>=0.19 in /usr/local/lib/python3.10/dist-packages (from sympy->torch->-r /content/in_the_jungle/ast_requirements.txt (line 9)) (1.3.0)\n",
            "Building wheels for collected packages: matplotlib, wget\n",
            "  Building wheel for matplotlib (setup.py) ... \u001b[?25l\u001b[?25hdone\n",
            "  Created wheel for matplotlib: filename=matplotlib-3.4.2-cp310-cp310-linux_x86_64.whl size=10436383 sha256=72160848a6b204da33d2daa801a6b1c65d7ce92f25d71427f13a521bfccb14d0\n",
            "  Stored in directory: /root/.cache/pip/wheels/d9/e8/73/f806fc40c211022378c2828e3cce1eac412344111ab1becd9d\n",
            "  Building wheel for wget (setup.py) ... \u001b[?25l\u001b[?25hdone\n",
            "  Created wheel for wget: filename=wget-3.2-py3-none-any.whl size=9655 sha256=7c5b4dd0acea7a430ec62a2bf4383232cedcb810c88fcfcca5b7b72c38b1e1e3\n",
            "  Stored in directory: /root/.cache/pip/wheels/8b/f1/7f/5c94f0a7a505ca1c81cd1d9208ae2064675d97582078e6c769\n",
            "Successfully built matplotlib wget\n",
            "Installing collected packages: wget, matplotlib, timm\n",
            "  Attempting uninstall: matplotlib\n",
            "    Found existing installation: matplotlib 3.7.1\n",
            "    Uninstalling matplotlib-3.7.1:\n",
            "      Successfully uninstalled matplotlib-3.7.1\n",
            "\u001b[31mERROR: pip's dependency resolver does not currently take into account all the packages that are installed. This behaviour is the source of the following dependency conflicts.\n",
            "lida 0.0.10 requires fastapi, which is not installed.\n",
            "lida 0.0.10 requires kaleido, which is not installed.\n",
            "lida 0.0.10 requires python-multipart, which is not installed.\n",
            "lida 0.0.10 requires uvicorn, which is not installed.\n",
            "mizani 0.9.3 requires matplotlib>=3.5.0, but you have matplotlib 3.4.2 which is incompatible.\n",
            "plotnine 0.12.4 requires matplotlib>=3.6.0, but you have matplotlib 3.4.2 which is incompatible.\u001b[0m\u001b[31m\n",
            "\u001b[0mSuccessfully installed matplotlib-3.4.2 timm-0.4.5 wget-3.2\n"
          ]
        },
        {
          "output_type": "display_data",
          "data": {
            "application/vnd.colab-display-data+json": {
              "pip_warning": {
                "packages": [
                  "matplotlib",
                  "mpl_toolkits"
                ]
              }
            }
          },
          "metadata": {}
        }
      ],
      "source": [
        "!pip install -r /content/in_the_jungle/ast_requirements.txt"
      ]
    },
    {
      "cell_type": "code",
      "execution_count": 4,
      "metadata": {
        "colab": {
          "base_uri": "https://localhost:8080/"
        },
        "id": "WE_dFNExXJn7",
        "outputId": "cc586d72-0359-46de-efc1-d7d5af6cff9a"
      },
      "outputs": [
        {
          "output_type": "stream",
          "name": "stdout",
          "text": [
            "/content/ast/src\n"
          ]
        }
      ],
      "source": [
        "%cd src\n",
        "from models import ASTModel"
      ]
    },
    {
      "cell_type": "markdown",
      "source": [
        "### Setting up our data pipeline"
      ],
      "metadata": {
        "id": "3GNGC9RxTkmA"
      }
    },
    {
      "cell_type": "code",
      "execution_count": 6,
      "metadata": {
        "colab": {
          "base_uri": "https://localhost:8080/"
        },
        "id": "Qv2XyLP3adeM",
        "outputId": "ce6e6c77-2245-4770-c96c-12b1b4038b45"
      },
      "outputs": [
        {
          "output_type": "stream",
          "name": "stdout",
          "text": [
            "/content/in_the_jungle\n"
          ]
        }
      ],
      "source": [
        "%cd ../../in_the_jungle"
      ]
    },
    {
      "cell_type": "code",
      "execution_count": 7,
      "metadata": {
        "colab": {
          "base_uri": "https://localhost:8080/"
        },
        "id": "bMvmY1gjbvNK",
        "outputId": "aee2497f-4cca-41a0-e4d4-7f7d4f107b7a"
      },
      "outputs": [
        {
          "output_type": "stream",
          "name": "stdout",
          "text": [
            "Requirement already satisfied: librosa==0.10.1 in /usr/local/lib/python3.10/dist-packages (from -r requirements.txt (line 1)) (0.10.1)\n",
            "Requirement already satisfied: numpy in /usr/local/lib/python3.10/dist-packages (from -r requirements.txt (line 2)) (1.23.5)\n",
            "Requirement already satisfied: matplotlib in /usr/local/lib/python3.10/dist-packages (from -r requirements.txt (line 3)) (3.4.2)\n",
            "Requirement already satisfied: pandas in /usr/local/lib/python3.10/dist-packages (from -r requirements.txt (line 4)) (1.5.3)\n",
            "Collecting audiomentations (from -r requirements.txt (line 5))\n",
            "  Downloading audiomentations-0.34.1-py3-none-any.whl (76 kB)\n",
            "\u001b[2K     \u001b[90m━━━━━━━━━━━━━━━━━━━━━━━━━━━━━━━━━━━━━━━━\u001b[0m \u001b[32m77.0/77.0 kB\u001b[0m \u001b[31m1.2 MB/s\u001b[0m eta \u001b[36m0:00:00\u001b[0m\n",
            "\u001b[?25hRequirement already satisfied: audioread>=2.1.9 in /usr/local/lib/python3.10/dist-packages (from librosa==0.10.1->-r requirements.txt (line 1)) (3.0.1)\n",
            "Requirement already satisfied: scipy>=1.2.0 in /usr/local/lib/python3.10/dist-packages (from librosa==0.10.1->-r requirements.txt (line 1)) (1.11.4)\n",
            "Requirement already satisfied: scikit-learn>=0.20.0 in /usr/local/lib/python3.10/dist-packages (from librosa==0.10.1->-r requirements.txt (line 1)) (1.2.2)\n",
            "Requirement already satisfied: joblib>=0.14 in /usr/local/lib/python3.10/dist-packages (from librosa==0.10.1->-r requirements.txt (line 1)) (1.3.2)\n",
            "Requirement already satisfied: decorator>=4.3.0 in /usr/local/lib/python3.10/dist-packages (from librosa==0.10.1->-r requirements.txt (line 1)) (4.4.2)\n",
            "Requirement already satisfied: numba>=0.51.0 in /usr/local/lib/python3.10/dist-packages (from librosa==0.10.1->-r requirements.txt (line 1)) (0.58.1)\n",
            "Requirement already satisfied: soundfile>=0.12.1 in /usr/local/lib/python3.10/dist-packages (from librosa==0.10.1->-r requirements.txt (line 1)) (0.12.1)\n",
            "Requirement already satisfied: pooch>=1.0 in /usr/local/lib/python3.10/dist-packages (from librosa==0.10.1->-r requirements.txt (line 1)) (1.8.0)\n",
            "Requirement already satisfied: soxr>=0.3.2 in /usr/local/lib/python3.10/dist-packages (from librosa==0.10.1->-r requirements.txt (line 1)) (0.3.7)\n",
            "Requirement already satisfied: typing-extensions>=4.1.1 in /usr/local/lib/python3.10/dist-packages (from librosa==0.10.1->-r requirements.txt (line 1)) (4.5.0)\n",
            "Requirement already satisfied: lazy-loader>=0.1 in /usr/local/lib/python3.10/dist-packages (from librosa==0.10.1->-r requirements.txt (line 1)) (0.3)\n",
            "Requirement already satisfied: msgpack>=1.0 in /usr/local/lib/python3.10/dist-packages (from librosa==0.10.1->-r requirements.txt (line 1)) (1.0.7)\n",
            "Requirement already satisfied: cycler>=0.10 in /usr/local/lib/python3.10/dist-packages (from matplotlib->-r requirements.txt (line 3)) (0.12.1)\n",
            "Requirement already satisfied: kiwisolver>=1.0.1 in /usr/local/lib/python3.10/dist-packages (from matplotlib->-r requirements.txt (line 3)) (1.4.5)\n",
            "Requirement already satisfied: pillow>=6.2.0 in /usr/local/lib/python3.10/dist-packages (from matplotlib->-r requirements.txt (line 3)) (9.4.0)\n",
            "Requirement already satisfied: pyparsing>=2.2.1 in /usr/local/lib/python3.10/dist-packages (from matplotlib->-r requirements.txt (line 3)) (3.1.1)\n",
            "Requirement already satisfied: python-dateutil>=2.7 in /usr/local/lib/python3.10/dist-packages (from matplotlib->-r requirements.txt (line 3)) (2.8.2)\n",
            "Requirement already satisfied: pytz>=2020.1 in /usr/local/lib/python3.10/dist-packages (from pandas->-r requirements.txt (line 4)) (2023.3.post1)\n",
            "Requirement already satisfied: llvmlite<0.42,>=0.41.0dev0 in /usr/local/lib/python3.10/dist-packages (from numba>=0.51.0->librosa==0.10.1->-r requirements.txt (line 1)) (0.41.1)\n",
            "Requirement already satisfied: platformdirs>=2.5.0 in /usr/local/lib/python3.10/dist-packages (from pooch>=1.0->librosa==0.10.1->-r requirements.txt (line 1)) (4.1.0)\n",
            "Requirement already satisfied: packaging>=20.0 in /usr/local/lib/python3.10/dist-packages (from pooch>=1.0->librosa==0.10.1->-r requirements.txt (line 1)) (23.2)\n",
            "Requirement already satisfied: requests>=2.19.0 in /usr/local/lib/python3.10/dist-packages (from pooch>=1.0->librosa==0.10.1->-r requirements.txt (line 1)) (2.31.0)\n",
            "Requirement already satisfied: six>=1.5 in /usr/local/lib/python3.10/dist-packages (from python-dateutil>=2.7->matplotlib->-r requirements.txt (line 3)) (1.16.0)\n",
            "Requirement already satisfied: threadpoolctl>=2.0.0 in /usr/local/lib/python3.10/dist-packages (from scikit-learn>=0.20.0->librosa==0.10.1->-r requirements.txt (line 1)) (3.2.0)\n",
            "Requirement already satisfied: cffi>=1.0 in /usr/local/lib/python3.10/dist-packages (from soundfile>=0.12.1->librosa==0.10.1->-r requirements.txt (line 1)) (1.16.0)\n",
            "Requirement already satisfied: pycparser in /usr/local/lib/python3.10/dist-packages (from cffi>=1.0->soundfile>=0.12.1->librosa==0.10.1->-r requirements.txt (line 1)) (2.21)\n",
            "Requirement already satisfied: charset-normalizer<4,>=2 in /usr/local/lib/python3.10/dist-packages (from requests>=2.19.0->pooch>=1.0->librosa==0.10.1->-r requirements.txt (line 1)) (3.3.2)\n",
            "Requirement already satisfied: idna<4,>=2.5 in /usr/local/lib/python3.10/dist-packages (from requests>=2.19.0->pooch>=1.0->librosa==0.10.1->-r requirements.txt (line 1)) (3.6)\n",
            "Requirement already satisfied: urllib3<3,>=1.21.1 in /usr/local/lib/python3.10/dist-packages (from requests>=2.19.0->pooch>=1.0->librosa==0.10.1->-r requirements.txt (line 1)) (2.0.7)\n",
            "Requirement already satisfied: certifi>=2017.4.17 in /usr/local/lib/python3.10/dist-packages (from requests>=2.19.0->pooch>=1.0->librosa==0.10.1->-r requirements.txt (line 1)) (2023.11.17)\n",
            "Installing collected packages: audiomentations\n",
            "Successfully installed audiomentations-0.34.1\n"
          ]
        }
      ],
      "source": [
        "!pip install -r requirements.txt"
      ]
    },
    {
      "cell_type": "code",
      "execution_count": 8,
      "metadata": {
        "id": "6q35i0h-b4s-",
        "colab": {
          "base_uri": "https://localhost:8080/"
        },
        "outputId": "7b571d85-fdf1-48c1-91ff-484614b7b05b"
      },
      "outputs": [
        {
          "output_type": "stream",
          "name": "stdout",
          "text": [
            "ast.ipynb\t      cnn.ipynb  data_dir_path.txt    preprocess.py  README.md\t       rnn.ipynb\n",
            "ast_requirements.txt  data\t label_encoding.JSON  __pycache__    requirements.txt  Store\n"
          ]
        }
      ],
      "source": [
        "!echo -n \"/content/in_the_jungle/data\" > data_dir_path.txt\n",
        "!ls"
      ]
    },
    {
      "cell_type": "markdown",
      "source": [
        "### Preprocessing Data & Creating Datasets"
      ],
      "metadata": {
        "id": "1A57FKOnTuVQ"
      }
    },
    {
      "cell_type": "code",
      "execution_count": 9,
      "metadata": {
        "id": "J8MV3yGjcXmb"
      },
      "outputs": [],
      "source": [
        "from preprocess import create_signal, pad_or_trim_audio, label_encoding\n",
        "import numpy as np\n",
        "import numpy as np\n",
        "import torch.optim as optim\n",
        "from torch.optim import lr_scheduler\n",
        "import torch\n",
        "import torch.nn as nn\n",
        "from torchvision import datasets\n",
        "from torchvision import transforms\n",
        "from torch.utils.data.sampler import SubsetRandomSampler\n",
        "import torchvision.models as models\n",
        "import numpy as np\n",
        "import matplotlib.pyplot as plt\n",
        "import pandas as pd\n",
        "import librosa\n",
        "import librosa.display\n",
        "import os\n",
        "import shutil\n",
        "import json\n",
        "from ast import literal_eval\n",
        "from audiomentations import AddGaussianNoise, AirAbsorption, ApplyImpulseResponse, BandPassFilter, GainTransition, RepeatPart, TimeStretch, TanhDistortion\n",
        "from sklearn.model_selection import train_test_split\n",
        "import time\n",
        "import copy\n",
        "\n",
        "def get_spectrogram(signal, sr=22050):\n",
        "  spectrogram = librosa.feature.melspectrogram(y=signal, sr=sr)\n",
        "  return librosa.amplitude_to_db(spectrogram)\n",
        "\n",
        "def get_mfcc(signal, n_mfcc=13):\n",
        "    return librosa.feature.mfcc(y=signal, n_mfcc=n_mfcc)\n"
      ]
    },
    {
      "cell_type": "code",
      "execution_count": 10,
      "metadata": {
        "colab": {
          "base_uri": "https://localhost:8080/"
        },
        "id": "Nkztju6caXGL",
        "outputId": "aca062f8-9a1e-4b37-cead-62100047286f"
      },
      "outputs": [
        {
          "output_type": "stream",
          "name": "stdout",
          "text": [
            "(700, 44100) (700,) (175, 44100) (175,)\n",
            "(700, 128, 87)\n",
            "(700, 20, 87)\n"
          ]
        }
      ],
      "source": [
        "with open(\"./data_dir_path.txt\") as f:\n",
        "    data_dir = f.read()\n",
        "\n",
        "df = pd.DataFrame(columns=[\"signal\", \"label\"])\n",
        "subdirs = [f for f in os.listdir(data_dir) if not f.startswith('.')]\n",
        "\n",
        "for sd in subdirs:\n",
        "    out_path = \"{}/{}\".format(data_dir, sd)\n",
        "    for file in os.listdir(\"{}/wav\".format(out_path)):\n",
        "        sig = create_signal(\"{}/wav/{}\".format(out_path, file), out_path)\n",
        "        sig = pad_or_trim_audio(sig, 22050 * 2)\n",
        "        df.loc[len(df)] = [sig, label_encoding[sd]]\n",
        "\n",
        "\n",
        "signal = np.vstack(df[\"signal\"])\n",
        "label = np.array(df[\"label\"])\n",
        "\n",
        "device = torch.device('cuda' if torch.cuda.is_available() else 'cpu')\n",
        "x_train, x_test, y_train, y_test = train_test_split(signal, label, test_size=0.2)\n",
        "print(x_train.shape, y_train.shape, x_test.shape, y_test.shape)\n",
        "\n",
        "spectrogram_train = get_spectrogram(x_train, sr=16000)\n",
        "spectrogram_test = get_spectrogram(x_test, sr=16000)\n",
        "print(spectrogram_train.shape)\n",
        "\n",
        "mfcc_train = get_mfcc(x_train, n_mfcc=20)\n",
        "mfcc_test = get_mfcc(x_test, n_mfcc=20)\n",
        "print(mfcc_train.shape)"
      ]
    },
    {
      "cell_type": "code",
      "execution_count": 11,
      "metadata": {
        "id": "LRs9ajaEfUgZ"
      },
      "outputs": [],
      "source": [
        "train_data_spectrogram = []\n",
        "test_data_spectrogram = []\n",
        "\n",
        "train_data_mfcc = []\n",
        "test_data_mfcc = []\n",
        "\n",
        "for i in range(spectrogram_train.shape[0]):\n",
        "    train_data_spectrogram.append((spectrogram_train[i], y_train[i]))\n",
        "    train_data_mfcc.append((mfcc_train[i], y_train[i]))\n",
        "\n",
        "for i in range(spectrogram_test.shape[0]):\n",
        "    test_data_spectrogram.append((spectrogram_test[i], y_test[i]))\n",
        "    test_data_mfcc.append((mfcc_test[i], y_test[i]))\n",
        "\n",
        "\n",
        "train_loader_spectrogram = torch.utils.data.DataLoader(train_data_spectrogram, batch_size=32)\n",
        "train_loader_mfcc = torch.utils.data.DataLoader(train_data_mfcc, batch_size=32)\n",
        "\n",
        "test_loader_spectrogram = torch.utils.data.DataLoader(test_data_spectrogram, batch_size=32)\n",
        "test_loader_mfcc = torch.utils.data.DataLoader(test_data_mfcc, batch_size=32)"
      ]
    },
    {
      "cell_type": "markdown",
      "source": [
        "### Training Code"
      ],
      "metadata": {
        "id": "yJn3JSYxT1Fh"
      }
    },
    {
      "cell_type": "code",
      "execution_count": 31,
      "metadata": {
        "id": "I1orPQl4cjAC"
      },
      "outputs": [],
      "source": [
        "def train(net, optimizer, criterion, train_loader, test_loader, epochs):\n",
        "    model = net.to(device)\n",
        "    total_step = len(train_loader)\n",
        "    overall_step = 0\n",
        "    train_loss_values = []\n",
        "    train_acc = []\n",
        "    val_loss_values = []\n",
        "    val_acc = []\n",
        "    for epoch in range(epochs):\n",
        "        print(\"epoch\", epoch)\n",
        "        correct = 0\n",
        "        total = 0\n",
        "        flag = 0\n",
        "        running_loss = 0.0\n",
        "        for i, (images, labels) in enumerate(train_loader):\n",
        "            # Move tensors to configured device\n",
        "            images = images.to(device)\n",
        "            labels = labels.to(device)\n",
        "            #Forward Pass\n",
        "            outputs = model(images)\n",
        "            loss = criterion(outputs, labels)\n",
        "            optimizer.zero_grad()\n",
        "            loss.backward()\n",
        "            running_loss += loss.item()\n",
        "            _, predicted = torch.max(outputs.data, 1)\n",
        "            total += labels.size(0)\n",
        "            correct += (predicted == labels).sum().item()\n",
        "            optimizer.step()\n",
        "            # if (i+1) % 1000 == 0:\n",
        "            #   print ('Epoch [{}/{}], Step [{}/{}], Loss: {:.4f}'.format(epoch+1, epochs, i+1, total_step, loss.item()))\n",
        "            # if plot:\n",
        "            #   info = { ('loss_' + model_name): loss.item() }\n",
        "\n",
        "              #for tag, value in info.items():\n",
        "                #logger.scalar_summary(tag, value, overall_step+1)\n",
        "        train_loss_values.append(running_loss)\n",
        "        train_acc.append(100 - 100*correct/total)\n",
        "\n",
        "        model.eval()\n",
        "        with torch.no_grad():\n",
        "            correct = 0\n",
        "            total = 0\n",
        "            for i, (images, labels) in enumerate(test_loader):\n",
        "                images = images.to(device)\n",
        "                labels = labels.to(device)\n",
        "                outputs = model(images)\n",
        "                _, predicted = torch.max(outputs.data, 1)\n",
        "                total += labels.size(0)\n",
        "                correct += (predicted == labels).sum().item()\n",
        "\n",
        "        print('Accuracy of the network on the test images: {} %'.format(100 * correct / total))\n",
        "        val_acc.append(100 - 100*correct/total)\n",
        "        val_loss_values.append(running_loss)\n",
        "    return val_acc,val_loss_values,train_acc,train_loss_values"
      ]
    },
    {
      "cell_type": "markdown",
      "source": [
        "### Setting up pre-trained AST Model and Training"
      ],
      "metadata": {
        "id": "zpAnSeAzUiKp"
      }
    },
    {
      "cell_type": "code",
      "execution_count": 13,
      "metadata": {
        "colab": {
          "base_uri": "https://localhost:8080/"
        },
        "id": "MJbYKispW-W1",
        "outputId": "ed8623b7-b3bf-4e45-b1c6-e52a61be234c"
      },
      "outputs": [
        {
          "output_type": "stream",
          "name": "stdout",
          "text": [
            "/content/ast/src/models\n"
          ]
        }
      ],
      "source": [
        "%cd /content/ast/src/models"
      ]
    },
    {
      "cell_type": "code",
      "execution_count": 32,
      "metadata": {
        "colab": {
          "base_uri": "https://localhost:8080/"
        },
        "id": "XlCrgan3fDiF",
        "outputId": "d057a22f-8012-4290-e807-2b362189d7b4"
      },
      "outputs": [
        {
          "output_type": "stream",
          "name": "stdout",
          "text": [
            "---------------AST Model Summary---------------\n",
            "ImageNet pretraining: True, AudioSet pretraining: True\n",
            "frequncey stride=10, time stride=10\n",
            "number of patches=96\n"
          ]
        }
      ],
      "source": [
        "ast_mdl = ASTModel(label_dim=10, input_tdim=128, input_fdim=87, audioset_pretrain=True, imagenet_pretrain=True)"
      ]
    },
    {
      "cell_type": "code",
      "execution_count": 33,
      "metadata": {
        "colab": {
          "base_uri": "https://localhost:8080/"
        },
        "id": "oX6YWzuscwqN",
        "outputId": "fb56b4a8-1773-40fb-c839-20cafad90e39"
      },
      "outputs": [
        {
          "output_type": "stream",
          "name": "stdout",
          "text": [
            "epoch 0\n",
            "Accuracy of the network on the test images: 48.57142857142857 %\n",
            "epoch 1\n",
            "Accuracy of the network on the test images: 40.0 %\n",
            "epoch 2\n",
            "Accuracy of the network on the test images: 42.285714285714285 %\n",
            "epoch 3\n",
            "Accuracy of the network on the test images: 46.857142857142854 %\n",
            "epoch 4\n",
            "Accuracy of the network on the test images: 53.714285714285715 %\n",
            "epoch 5\n",
            "Accuracy of the network on the test images: 62.285714285714285 %\n",
            "epoch 6\n",
            "Accuracy of the network on the test images: 69.14285714285714 %\n",
            "epoch 7\n",
            "Accuracy of the network on the test images: 68.0 %\n",
            "epoch 8\n",
            "Accuracy of the network on the test images: 68.0 %\n",
            "epoch 9\n",
            "Accuracy of the network on the test images: 68.57142857142857 %\n",
            "epoch 10\n",
            "Accuracy of the network on the test images: 71.42857142857143 %\n",
            "epoch 11\n",
            "Accuracy of the network on the test images: 69.14285714285714 %\n",
            "epoch 12\n",
            "Accuracy of the network on the test images: 72.57142857142857 %\n",
            "epoch 13\n",
            "Accuracy of the network on the test images: 74.85714285714286 %\n",
            "epoch 14\n",
            "Accuracy of the network on the test images: 74.85714285714286 %\n",
            "epoch 15\n",
            "Accuracy of the network on the test images: 72.0 %\n",
            "epoch 16\n",
            "Accuracy of the network on the test images: 75.42857142857143 %\n",
            "epoch 17\n",
            "Accuracy of the network on the test images: 75.42857142857143 %\n",
            "epoch 18\n",
            "Accuracy of the network on the test images: 76.57142857142857 %\n",
            "epoch 19\n",
            "Accuracy of the network on the test images: 77.14285714285714 %\n",
            "epoch 20\n",
            "Accuracy of the network on the test images: 77.71428571428571 %\n",
            "epoch 21\n",
            "Accuracy of the network on the test images: 77.14285714285714 %\n",
            "epoch 22\n",
            "Accuracy of the network on the test images: 77.14285714285714 %\n",
            "epoch 23\n",
            "Accuracy of the network on the test images: 77.14285714285714 %\n",
            "epoch 24\n",
            "Accuracy of the network on the test images: 77.14285714285714 %\n",
            "epoch 25\n",
            "Accuracy of the network on the test images: 76.57142857142857 %\n",
            "epoch 26\n",
            "Accuracy of the network on the test images: 76.57142857142857 %\n",
            "epoch 27\n",
            "Accuracy of the network on the test images: 75.42857142857143 %\n",
            "epoch 28\n",
            "Accuracy of the network on the test images: 73.71428571428571 %\n",
            "epoch 29\n",
            "Accuracy of the network on the test images: 76.57142857142857 %\n",
            "epoch 30\n",
            "Accuracy of the network on the test images: 76.57142857142857 %\n",
            "epoch 31\n",
            "Accuracy of the network on the test images: 76.0 %\n",
            "epoch 32\n",
            "Accuracy of the network on the test images: 74.85714285714286 %\n",
            "epoch 33\n",
            "Accuracy of the network on the test images: 76.0 %\n",
            "epoch 34\n",
            "Accuracy of the network on the test images: 76.0 %\n",
            "epoch 35\n",
            "Accuracy of the network on the test images: 75.42857142857143 %\n",
            "epoch 36\n",
            "Accuracy of the network on the test images: 75.42857142857143 %\n",
            "epoch 37\n",
            "Accuracy of the network on the test images: 76.57142857142857 %\n",
            "epoch 38\n",
            "Accuracy of the network on the test images: 76.57142857142857 %\n",
            "epoch 39\n",
            "Accuracy of the network on the test images: 77.14285714285714 %\n",
            "epoch 40\n",
            "Accuracy of the network on the test images: 77.14285714285714 %\n",
            "epoch 41\n",
            "Accuracy of the network on the test images: 77.14285714285714 %\n",
            "epoch 42\n",
            "Accuracy of the network on the test images: 76.0 %\n",
            "epoch 43\n",
            "Accuracy of the network on the test images: 77.71428571428571 %\n",
            "epoch 44\n",
            "Accuracy of the network on the test images: 74.85714285714286 %\n",
            "epoch 45\n",
            "Accuracy of the network on the test images: 77.71428571428571 %\n",
            "epoch 46\n",
            "Accuracy of the network on the test images: 77.71428571428571 %\n",
            "epoch 47\n",
            "Accuracy of the network on the test images: 77.71428571428571 %\n",
            "epoch 48\n",
            "Accuracy of the network on the test images: 77.14285714285714 %\n",
            "epoch 49\n",
            "Accuracy of the network on the test images: 77.71428571428571 %\n"
          ]
        }
      ],
      "source": [
        "model = ast_mdl.to(device)\n",
        "epochs = 50\n",
        "criterion = nn.CrossEntropyLoss()\n",
        "\n",
        "optimizer = optim.SGD(model.parameters(), lr=0.01, momentum=0.9, weight_decay=10e-5, nesterov=True)\n",
        "val_acc,val_loss_values,train_acc,train_loss_values= train(model, optimizer, criterion, train_loader_spectrogram, test_loader_spectrogram, epochs)"
      ]
    },
    {
      "cell_type": "code",
      "execution_count": 34,
      "metadata": {
        "colab": {
          "base_uri": "https://localhost:8080/",
          "height": 472
        },
        "id": "aDTGO2A9aqTp",
        "outputId": "03ff9810-1582-4a93-825e-38ed0c681ffd"
      },
      "outputs": [
        {
          "output_type": "display_data",
          "data": {
            "text/plain": [
              "<Figure size 640x480 with 1 Axes>"
            ],
            "image/png": "[encoded data removed]"
          },
          "metadata": {}
        }
      ],
      "source": [
        "plt.plot(train_loss_values, 'r')\n",
        "plt.title('Training Loss vs Iteration')\n",
        "plt.xlabel('Iteration')\n",
        "plt.ylabel('Total Training Loss')\n",
        "plt.show()"
      ]
    },
    {
      "cell_type": "code",
      "source": [
        "plt.plot([100 - _ for _ in train_acc])\n",
        "plt.title('Training Accuracy vs Iteration')\n",
        "plt.xlabel('Iteration')\n",
        "plt.ylabel('Training Accuracy')\n",
        "plt.show()"
      ],
      "metadata": {
        "colab": {
          "base_uri": "https://localhost:8080/",
          "height": 472
        },
        "id": "u7newQWZUXb3",
        "outputId": "5afc7db3-556b-49cb-adb1-1405fb1613ef"
      },
      "execution_count": 39,
      "outputs": [
        {
          "output_type": "display_data",
          "data": {
            "text/plain": [
              "<Figure size 640x480 with 1 Axes>"
            ],
            "image/png": "[encoded data removed]"
          },
          "metadata": {}
        }
      ]
    },
    {
      "cell_type": "code",
      "source": [
        "plt.plot(val_loss_values, 'r')\n",
        "plt.title('Validation Loss vs Iteration')\n",
        "plt.xlabel('Iteration')\n",
        "plt.ylabel('Total Validation Loss')\n",
        "plt.show()"
      ],
      "metadata": {
        "colab": {
          "base_uri": "https://localhost:8080/",
          "height": 472
        },
        "id": "YmlQtJ7tUdyc",
        "outputId": "c434eb0d-719a-4c08-c27a-8560f2f77e49"
      },
      "execution_count": 36,
      "outputs": [
        {
          "output_type": "display_data",
          "data": {
            "text/plain": [
              "<Figure size 640x480 with 1 Axes>"
            ],
            "image/png": "[encoded data removed]"
          },
          "metadata": {}
        }
      ]
    },
    {
      "cell_type": "code",
      "source": [
        "plt.plot([100 - _ for _ in val_acc])\n",
        "plt.title('Validation Accuracy vs Iteration')\n",
        "plt.xlabel('Iteration')\n",
        "plt.ylabel('Validation Accuracy')\n",
        "plt.show()"
      ],
      "metadata": {
        "colab": {
          "base_uri": "https://localhost:8080/",
          "height": 472
        },
        "id": "aqbCxhskUcF0",
        "outputId": "4fba6ac2-d5e7-4fcc-97eb-e4bde2346cfa"
      },
      "execution_count": 38,
      "outputs": [
        {
          "output_type": "display_data",
          "data": {
            "text/plain": [
              "<Figure size 640x480 with 1 Axes>"
            ],
            "image/png": "[encoded data removed]"
          },
          "metadata": {}
        }
      ]
    }
  ],
  "metadata": {
    "accelerator": "GPU",
    "colab": {
      "gpuType": "T4",
      "provenance": []
    },
    "kernelspec": {
      "display_name": "Python 3",
      "name": "python3"
    },
    "language_info": {
      "name": "python",
      "version": "3.11.7"
    },
    "vscode": {
      "interpreter": {
        "hash": "aee8b7b246df8f9039afb4144a1f6fd8d2ca17a180786b69acc140d282b71a49"
      }
    }
  },
  "nbformat": 4,
  "nbformat_minor": 0
}